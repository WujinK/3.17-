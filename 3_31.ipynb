{
 "cells": [
  {
   "cell_type": "code",
   "execution_count": 23,
   "metadata": {},
   "outputs": [
    {
     "name": "stdout",
     "output_type": "stream",
     "text": [
      "<a class=\"sister\" href=\"http://example.com/lacie\" id=\"link2\">Lacie</a>\n",
      "Lacie\n",
      "Tillie\n",
      "Elsie\n",
      "http://example.com/lacie\n"
     ]
    }
   ],
   "source": [
    "# requests 모듈 -> 웹페이지를 요청하고 응답 데이터 받을 수 있음\n",
    "import requests as req\n",
    "from bs4 import BeautifulSoup\n",
    "request_headers = {'User-Agent' : (\"Mozilla/5.0 (Windows NT 10.0; Win64; x64) AppleWebKit/537.36 (KHTML, like Gecko) Chrome/99.0.4844.82 Safari/537.36\")}\n",
    "# 특정 사이트에 페이지 요청. 응답 데이터 반환\n",
    "response = req.get('https://news.naver.com/', headers= request_headers)\n",
    "# print(response.text)\n",
    "html_doc = \"\"\"<html><head><title>The Dormouse's story</title></head>\n",
    "<body>\n",
    "<p class=\"title\"><b>The Dormouse's story</b></p>\n",
    "\n",
    "<p class=\"story\">Once upon a time there were three little sisters; and their names were\n",
    "<a href=\"http://example.com/elsie\" class=\"sister\" id=\"link1\">Elsie</a>,\n",
    "<a href=\"http://example.com/lacie\" class=\"sister\" id=\"link2\">Lacie</a> and\n",
    "<a href=\"http://example.com/tillie\" class=\"sister\" id=\"link3\">Tillie</a>;\n",
    "and they lived at the bottom of a well.</p>\n",
    "\n",
    "<p class=\"story\">...</p>\n",
    "\"\"\"\n",
    "# print(html_doc)\n",
    "soup = BeautifulSoup(html_doc, 'html.parser') # soup을 이용해서 html_doc 문자열을 html 파싱\n",
    "list1 = soup.select(\"a\") # 선택자를 이용해 태그 선택, 결과는 리스트로 반환 (a태그 다 가져오기)\n",
    "print(list1[1])\n",
    "# 텍스트만 뽑아오기\n",
    "print(list1[1].text)\n",
    "print(list1[2].text)\n",
    "print(list1[0].text)\n",
    "# 속성값을 가져오기 <태그명 속성명 = \"속성값\">\n",
    "print(list1[1][\"href\"])"
   ]
  },
  {
   "cell_type": "code",
   "execution_count": 111,
   "metadata": {},
   "outputs": [
    {
     "name": "stdout",
     "output_type": "stream",
     "text": [
      "\n",
      "\n",
      "                                    충북 공직자, 코로나 시국에도 부동산·예금 늘었다\n",
      "                                \n",
      "\n",
      "\n",
      "\n",
      "                                    경북 경산·대구 노동자 일터 사망 잇따라\n",
      "                                \n",
      "\n"
     ]
    }
   ],
   "source": [
    "import requests as req\n",
    "from bs4 import BeautifulSoup\n",
    "request_headers = {'User-Agent' : (\"Mozilla/5.0 (Windows NT 10.0; Win64; x64) AppleWebKit/537.36 (KHTML, like Gecko) Chrome/99.0.4844.82 Safari/537.36\")}\n",
    "# 특정 사이트에 페이지 요청. 응답 데이터 반환\n",
    "response = req.get('https://news.daum.net/')\n",
    "# print(response.text)\n",
    "soup = BeautifulSoup(response.text, 'html.parser')\n",
    "title = soup.select(\".tit_g\") # class 는 . // id는 #\n",
    "print(title[3].text)\n",
    "print(title[5].text)"
   ]
  },
  {
   "cell_type": "code",
   "execution_count": null,
   "metadata": {},
   "outputs": [],
   "source": []
  }
 ],
 "metadata": {
  "interpreter": {
   "hash": "4e0b39fdc4f2df2992ef135d097972ec225e019845a073717c5b1bc8df292c8a"
  },
  "kernelspec": {
   "display_name": "Python 3.10.3 64-bit",
   "language": "python",
   "name": "python3"
  },
  "language_info": {
   "codemirror_mode": {
    "name": "ipython",
    "version": 3
   },
   "file_extension": ".py",
   "mimetype": "text/x-python",
   "name": "python",
   "nbconvert_exporter": "python",
   "pygments_lexer": "ipython3",
   "version": "3.10.3"
  },
  "orig_nbformat": 4
 },
 "nbformat": 4,
 "nbformat_minor": 2
}
