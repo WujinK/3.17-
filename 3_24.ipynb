{
 "cells": [
  {
   "cell_type": "code",
   "execution_count": null,
   "metadata": {},
   "outputs": [],
   "source": [
    "import sys\n",
    "print(sys.path)\n",
    "sys.path.append('C:\\Wujin_py')\n",
    "print(test1.func1())\n"
   ]
  },
  {
   "cell_type": "code",
   "execution_count": 9,
   "metadata": {},
   "outputs": [
    {
     "data": {
      "text/plain": [
       "'hello world'"
      ]
     },
     "execution_count": 9,
     "metadata": {},
     "output_type": "execute_result"
    }
   ],
   "source": [
    "import test2\n",
    "test2.func1()"
   ]
  },
  {
   "cell_type": "code",
   "execution_count": 11,
   "metadata": {},
   "outputs": [
    {
     "name": "stdout",
     "output_type": "stream",
     "text": [
      "c:\\Wujin_py\n"
     ]
    }
   ],
   "source": [
    "print(os.getcwd())\n",
    "os.mkdir('C:\\Wujin_py\\exercise')"
   ]
  },
  {
   "cell_type": "code",
   "execution_count": 19,
   "metadata": {},
   "outputs": [],
   "source": [
    "os.rmdir(\"C:\\Wujin_py\\exercise\")"
   ]
  },
  {
   "cell_type": "code",
   "execution_count": 20,
   "metadata": {},
   "outputs": [],
   "source": [
    "# test2.txt 파일을 생성해 주세요 .\n",
    "f1 = open(\"test2.txt\", \"wt\")"
   ]
  },
  {
   "cell_type": "code",
   "execution_count": 26,
   "metadata": {},
   "outputs": [],
   "source": [
    "# 파일 5개를 반복문을 이용해 생성해주세요.\n",
    "for i in range(3, 8) :\n",
    "    filename = \"text\" + str(i) + \".txt\"\n",
    "    open(filename, \"wt\")"
   ]
  },
  {
   "cell_type": "code",
   "execution_count": 23,
   "metadata": {},
   "outputs": [],
   "source": [
    "# test2.txt 파일에 hello world가 저장되게 해주세요.\n",
    "f2 = open(\"text2.txt\", \"wt\")\n",
    "f2.write(\"Hello World\")\n",
    "f2.close()"
   ]
  },
  {
   "cell_type": "code",
   "execution_count": 25,
   "metadata": {},
   "outputs": [],
   "source": [
    "# 반복문을 이용해 생성한 test3.txt 파일에 줄바꿈을 적용해서 아래 문장을 저장해 주세요.\n",
    "# 안녕하세요. 저는 홍길동 입니다. 잘 부탁드립니다.\n",
    "\n",
    "f3=open(\"text3.txt\", \"wt\", encoding=\"utf-8\")\n",
    "f3.write(\"안녕하세요.\\n저는 홍길동 입니다.\\n잘 부탁드립니다.\")\n",
    "f3.close()"
   ]
  },
  {
   "cell_type": "code",
   "execution_count": 33,
   "metadata": {},
   "outputs": [],
   "source": [
    "# 리스트를 만들어서 리스트에 있는 내용을 test4.txt에 저장해주세요.\n",
    "list1 = [\"사과\", \"배\", \"바나나\", \"딸기\"]\n",
    "\n",
    "f4 = open(\"text4.txt\", \"wt\", encoding=\"utf-8\")\n",
    "for i in list1 :\n",
    "    f4.write(i+\"\\n\")\n",
    "f4.close()"
   ]
  },
  {
   "cell_type": "code",
   "execution_count": 37,
   "metadata": {},
   "outputs": [
    {
     "name": "stdout",
     "output_type": "stream",
     "text": [
      "버림하기전 원래값 1.6666666666666667\n",
      "버림하고 난 후 값 1\n"
     ]
    }
   ],
   "source": [
    "# trunc() 버림함수\n",
    "import math\n",
    "n1=3\n",
    "n2=5\n",
    "print(\"버림하기전 원래값 {}\".format(n2/n1))\n",
    "print(\"버림하고 난 후 값 {}\".format(math.trunc(n2/n1)))"
   ]
  },
  {
   "cell_type": "code",
   "execution_count": 39,
   "metadata": {},
   "outputs": [
    {
     "name": "stdout",
     "output_type": "stream",
     "text": [
      "총 9 페이지까지 필요합니다.\n"
     ]
    }
   ],
   "source": [
    "# ceil() // math 모듈 안에 있는 함수 // 주어진 숫자보다 큰 가장 가까운 정수를 찾아주는 함수\n",
    "\n",
    "cnt = int(input(\"총 몇 건의 데이터를 입력 받을까요?\"))\n",
    "# 한 페이지에는 10개의 데이터만 보여질 수 있다.\n",
    "page = math.ceil(cnt/10)\n",
    "print(\"총 %s 페이지까지 필요합니다.\" %page)\n",
    "\n",
    "'''\n",
    "%d 정수\n",
    "%f 실수\n",
    "%s 문자열\n",
    "%c 문자(하나)\n",
    "'''"
   ]
  },
  {
   "cell_type": "code",
   "execution_count": 43,
   "metadata": {},
   "outputs": [
    {
     "name": "stdout",
     "output_type": "stream",
     "text": [
      "3.6보다 작으면서 가장 가까운 정수는 3입니다. \n"
     ]
    }
   ],
   "source": [
    "# floor() // 주어진 숫자보다 작고 가장 가까운 정수를 찾아주는 함수\n",
    "n1=4.9\n",
    "n2=3.6\n",
    "print(f\"{n2}보다 작으면서 가장 가까운 정수는 {math.floor(n2)}입니다. \")\n",
    "\n"
   ]
  },
  {
   "cell_type": "code",
   "execution_count": null,
   "metadata": {},
   "outputs": [],
   "source": [
    "cnt = int(input(\"총 몇 건의 데이터를 입력 받을까요?\"))\n",
    "# 한 페이지는 10개의 데이터만 보여질 수 있다.\n",
    "page = math.floor(cnt/10)\n",
    "print(\"총 %s 페이지까지 필요합니다.\" %page)"
   ]
  },
  {
   "cell_type": "code",
   "execution_count": null,
   "metadata": {},
   "outputs": [],
   "source": [
    "# openpyxl 모듈 가져옴\n",
    "from openpyxl import *\n",
    "\n",
    "# 엑셀 추가\n",
    "w1 = Workbook()\n",
    "ws = w1.active\n",
    "\n",
    "# 엑셀 저장\n",
    "w1.save(\"엑셀.xlsx\")\n",
    "\n",
    "# 엑셀 로드\n",
    "w2 = load_workbook(\"엑셀.xlsx\")\n",
    "ws2 = w2.active\n",
    "\n",
    "# 셀을 선택해서 편집하는 방법\n",
    "ws2[\"A1\"] = \"hello\"\n",
    "w2.save(\"엑셀.xlsx\")\n",
    "\n",
    "ws2[\"D3\"] = \"haha\"\n",
    "w2.save(\"엑셀.xlsx\")\n",
    "\n",
    "# 원하는 만큼 엑셀 편집\n",
    "num = \"aaa\"\n",
    "for row in ws2[\"A1\":\"C3\"] :\n",
    "    for cell in row :\n",
    "        cell.value = num\n",
    "w2.save(\"엑셀.xlsx\")\n",
    "\n",
    "# P1\n",
    "# num = [\"1\", \"2\", \"3\", \"4\", \"5\", \"6\", \"7\",\"8\", \"9\"]\n",
    "# i = 1\n",
    "# while i < 10 :\n",
    "#     for row in ws2[\"A1\":\"C3\"] :\n",
    "#         for cell in row :\n",
    "#             cell.value = \n",
    "#     i+=1\n",
    "# w2.save(\"엑셀.xlsx\")\n",
    "\n",
    "num = 1\n",
    "for row in ws2[\"A1\":\"C3\"] :\n",
    "    for cell in row :\n",
    "        cell.value = num\n",
    "        num+=1\n",
    "w2.save(\"엑셀.xlsx\")\n",
    "\n",
    "# 셀 조회하기\n",
    "for row in ws2git .iter_rows(min_row=1, min_col=1, max_row=3, max_col=2) :\n",
    "    for cell in row :\n",
    "        print(cell.value)"
   ]
  },
  {
   "cell_type": "code",
   "execution_count": 94,
   "metadata": {},
   "outputs": [],
   "source": [
    "# 신규ㅜ 엑셀 시트 생성\n",
    "# 새로운 시트는 맨 마지막 탭에 생성된다.\n",
    "# wsnew = w2.create_sheet()\n",
    "\n",
    "# 시트 이름 변경\n",
    "ws2.title = \"1번 시트\"\n",
    "\n",
    "# 원하는 위치에 시트 생성\n",
    "wsnew = w2.create_sheet(\"0번시트\", 0)\n",
    "w2.save(\"엑셀.xlsx\")"
   ]
  },
  {
   "cell_type": "code",
   "execution_count": 99,
   "metadata": {},
   "outputs": [
    {
     "name": "stdout",
     "output_type": "stream",
     "text": [
      "1\n",
      "1\n",
      "3\n"
     ]
    }
   ],
   "source": [
    "list1 = [1,2,3,4]\n",
    "tuple1 = (1,2,3,4)\n",
    "print(list1[0])\n",
    "print(tuple1[0])\n",
    "list1[0] = 3\n",
    "print(list1[0])\n",
    "# 튜플은 리스트와 달리 수정할 수 없음.\n"
   ]
  },
  {
   "cell_type": "code",
   "execution_count": null,
   "metadata": {},
   "outputs": [],
   "source": []
  }
 ],
 "metadata": {
  "interpreter": {
   "hash": "4e0b39fdc4f2df2992ef135d097972ec225e019845a073717c5b1bc8df292c8a"
  },
  "kernelspec": {
   "display_name": "Python 3.10.3 64-bit",
   "language": "python",
   "name": "python3"
  },
  "language_info": {
   "codemirror_mode": {
    "name": "ipython",
    "version": 3
   },
   "file_extension": ".py",
   "mimetype": "text/x-python",
   "name": "python",
   "nbconvert_exporter": "python",
   "pygments_lexer": "ipython3",
   "version": "3.10.3"
  },
  "orig_nbformat": 4
 },
 "nbformat": 4,
 "nbformat_minor": 2
}
