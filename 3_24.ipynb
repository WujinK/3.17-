{
 "cells": [
  {
   "cell_type": "code",
   "execution_count": null,
   "metadata": {},
   "outputs": [],
   "source": [
    "import sys\n",
    "print(sys.path)\n",
    "sys.path.append('C:\\Wujin_py')\n",
    "print(test1.func1())\n"
   ]
  },
  {
   "cell_type": "code",
   "execution_count": 9,
   "metadata": {},
   "outputs": [
    {
     "data": {
      "text/plain": [
       "'hello world'"
      ]
     },
     "execution_count": 9,
     "metadata": {},
     "output_type": "execute_result"
    }
   ],
   "source": [
    "import test2\n",
    "test2.func1()"
   ]
  },
  {
   "cell_type": "code",
   "execution_count": 11,
   "metadata": {},
   "outputs": [
    {
     "name": "stdout",
     "output_type": "stream",
     "text": [
      "c:\\Wujin_py\n"
     ]
    }
   ],
   "source": [
    "print(os.getcwd())\n",
    "os.mkdir('C:\\Wujin_py\\exercise')"
   ]
  },
  {
   "cell_type": "code",
   "execution_count": 19,
   "metadata": {},
   "outputs": [],
   "source": [
    "os.rmdir(\"C:\\Wujin_py\\exercise\")"
   ]
  },
  {
   "cell_type": "code",
   "execution_count": 20,
   "metadata": {},
   "outputs": [],
   "source": [
    "# test2.txt 파일을 생성해 주세요 .\n",
    "f1 = open(\"test2.txt\", \"wt\")"
   ]
  },
  {
   "cell_type": "code",
   "execution_count": 26,
   "metadata": {},
   "outputs": [],
   "source": [
    "# 파일 5개를 반복문을 이용해 생성해주세요.\n",
    "for i in range(3, 8) :\n",
    "    filename = \"text\" + str(i) + \".txt\"\n",
    "    open(filename, \"wt\")"
   ]
  },
  {
   "cell_type": "code",
   "execution_count": 23,
   "metadata": {},
   "outputs": [],
   "source": [
    "# test2.txt 파일에 hello world가 저장되게 해주세요.\n",
    "f2 = open(\"text2.txt\", \"wt\")\n",
    "f2.write(\"Hello World\")\n",
    "f2.close()"
   ]
  },
  {
   "cell_type": "code",
   "execution_count": 25,
   "metadata": {},
   "outputs": [],
   "source": [
    "# 반복문을 이용해 생성한 test3.txt 파일에 줄바꿈을 적용해서 아래 문장을 저장해 주세요.\n",
    "# 안녕하세요. 저는 홍길동 입니다. 잘 부탁드립니다.\n",
    "\n",
    "f3=open(\"text3.txt\", \"wt\", encoding=\"utf-8\")\n",
    "f3.write(\"안녕하세요.\\n저는 홍길동 입니다.\\n잘 부탁드립니다.\")\n",
    "f3.close()"
   ]
  },
  {
   "cell_type": "code",
   "execution_count": 33,
   "metadata": {},
   "outputs": [],
   "source": [
    "# 리스트를 만들어서 리스트에 있는 내용을 test4.txt에 저장해주세요.\n",
    "list1 = [\"사과\", \"배\", \"바나나\", \"딸기\"]\n",
    "\n",
    "f4 = open(\"text4.txt\", \"wt\", encoding=\"utf-8\")\n",
    "for i in list1 :\n",
    "    f4.write(i+\"\\n\")\n",
    "f4.close()"
   ]
  },
  {
   "cell_type": "code",
   "execution_count": 37,
   "metadata": {},
   "outputs": [
    {
     "name": "stdout",
     "output_type": "stream",
     "text": [
      "버림하기전 원래값 1.6666666666666667\n",
      "버림하고 난 후 값 1\n"
     ]
    }
   ],
   "source": [
    "# trunc() 버림함수\n",
    "import math\n",
    "n1=3\n",
    "n2=5\n",
    "print(\"버림하기전 원래값 {}\".format(n2/n1))\n",
    "print(\"버림하고 난 후 값 {}\".format(math.trunc(n2/n1)))"
   ]
  },
  {
   "cell_type": "code",
   "execution_count": null,
   "metadata": {},
   "outputs": [],
   "source": []
  }
 ],
 "metadata": {
  "interpreter": {
   "hash": "4e0b39fdc4f2df2992ef135d097972ec225e019845a073717c5b1bc8df292c8a"
  },
  "kernelspec": {
   "display_name": "Python 3.10.3 64-bit",
   "language": "python",
   "name": "python3"
  },
  "language_info": {
   "codemirror_mode": {
    "name": "ipython",
    "version": 3
   },
   "file_extension": ".py",
   "mimetype": "text/x-python",
   "name": "python",
   "nbconvert_exporter": "python",
   "pygments_lexer": "ipython3",
   "version": "3.10.3"
  },
  "orig_nbformat": 4
 },
 "nbformat": 4,
 "nbformat_minor": 2
}
