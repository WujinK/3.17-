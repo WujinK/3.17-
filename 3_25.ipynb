{
 "cells": [
  {
   "cell_type": "code",
   "execution_count": 9,
   "metadata": {},
   "outputs": [],
   "source": [
    "# pandas => 데이터를 조작하고 분석하기 위한 파이썬 라이브러리, 대규모의 데이터를 처리할 때 편리하게 사용할 수 있다. \n",
    "\n",
    "# pandas의 기본 객체(정수 인덱스 자동으로 만들어줌)\n",
    "# series(열/=> 1차원 어레이//인덱스라는 레이블 가짐), DataFrame(시리즈가 합쳐진 것/=>2차원 어레이 )\n",
    "\n",
    "# numpy => 수학, 과학 연산을 위한 패키지\n",
    "# 숫자 그대로 입력은 불가함 ex) np.array(1,2,3,4)\n",
    "# np. array([1,2,3,4]) 가능\n",
    "# np. array((1,2,3,4)) 가능 \n",
    "# // 직접 입력만 하는 건 불가능"
   ]
  },
  {
   "cell_type": "code",
   "execution_count": 31,
   "metadata": {},
   "outputs": [
    {
     "name": "stdout",
     "output_type": "stream",
     "text": [
      "0    1\n",
      "1    2\n",
      "2    3\n",
      "3    4\n",
      "4    8\n",
      "dtype: int64\n"
     ]
    }
   ],
   "source": [
    "# 정수형 series 만들기\n",
    "import pandas as pd #as 뒤에는 별칭\n",
    "s=pd.Series([1,2,3,4,8])\n",
    "print(s)\n",
    "# dtype = 들어있는 자료형 알려줌\n"
   ]
  },
  {
   "cell_type": "code",
   "execution_count": 32,
   "metadata": {},
   "outputs": [
    {
     "name": "stdout",
     "output_type": "stream",
     "text": [
      "0    1.3\n",
      "1    2.5\n",
      "2    3.6\n",
      "3    2.3\n",
      "4    1.2\n",
      "dtype: float64\n"
     ]
    }
   ],
   "source": [
    "# 실수형 series(float는 실수)\n",
    "s = pd.Series([1.3,2.5,3.6,2.3,1.2])\n",
    "print(s)"
   ]
  },
  {
   "cell_type": "code",
   "execution_count": 33,
   "metadata": {},
   "outputs": [
    {
     "name": "stdout",
     "output_type": "stream",
     "text": [
      "0    1.0\n",
      "1    2.3\n",
      "2    5.0\n",
      "3    6.0\n",
      "dtype: float64\n"
     ]
    }
   ],
   "source": [
    "# 실수형, 정수형 series (섞임)\n",
    "s = pd.Series([1,2.3,5,6])\n",
    "print(s)"
   ]
  },
  {
   "cell_type": "code",
   "execution_count": 13,
   "metadata": {},
   "outputs": [
    {
     "name": "stdout",
     "output_type": "stream",
     "text": [
      "a    1.0\n",
      "b    2.3\n",
      "c    5.0\n",
      "d    6.0\n",
      "dtype: float64\n"
     ]
    }
   ],
   "source": [
    "# 인덱스 지정하기\n",
    "s = pd.Series([1,2.3,5,6], index =['a', 'b', 'c', 'd'])\n",
    "print(s)"
   ]
  },
  {
   "cell_type": "code",
   "execution_count": 21,
   "metadata": {},
   "outputs": [
    {
     "name": "stdout",
     "output_type": "stream",
     "text": [
      "[1 2 3]\n",
      "[0. 0. 0. 0. 0.]\n",
      "[[1. 1. 1.]\n",
      " [1. 1. 1.]]\n"
     ]
    }
   ],
   "source": [
    "# 넘파이로 어레이 만들기\n",
    "import numpy as np\n",
    "a= np.array([1,2,3])\n",
    "print(a)\n",
    "b = np.zeros(5)\n",
    "print(b)\n",
    "c = np.ones((2,3))\n",
    "print(c)"
   ]
  },
  {
   "cell_type": "code",
   "execution_count": 30,
   "metadata": {},
   "outputs": [
    {
     "name": "stdout",
     "output_type": "stream",
     "text": [
      "[5 5 5 5]\n",
      "[4 6 6 4]\n",
      "2.5\n",
      "2.5\n"
     ]
    }
   ],
   "source": [
    "# array 끼리 더하기 (요소끼리 더하기)\n",
    "a = np.array([1,2,3,4])\n",
    "b = np.array([4,3,2,1])\n",
    "print(np.add(a,b))\n",
    "\n",
    "# 요소별 곱하기\n",
    "print(np.multiply(a,b))\n",
    "\n",
    "# 요소별 평균 구하기 np.mean((어레이집어넣기))\n",
    "print(np.mean(a))\n",
    "print(np.mean(b))"
   ]
  },
  {
   "cell_type": "code",
   "execution_count": 43,
   "metadata": {},
   "outputs": [
    {
     "name": "stdout",
     "output_type": "stream",
     "text": [
      "[[0.72032905 0.7693116  0.10070278 0.20713535 0.38653764]\n",
      " [0.00715344 0.87065797 0.04759461 0.73585183 0.10090741]]\n",
      "[[ 0.26669838  1.9491668   0.20310489 -0.36035879]\n",
      " [ 0.89067186 -0.08696761  1.35302785 -0.1314746 ]]\n"
     ]
    }
   ],
   "source": [
    "# 0과 1 사이에서 균일한 분포를 갖는 숫자 샘플링\n",
    "a = np.random.rand(2,5)\n",
    "print(a)\n",
    "\n",
    "# 표준 정규 분포를 갖는 숫자들 샘플링\n",
    "b = np.random.randn(2,4)\n",
    "print(b)"
   ]
  },
  {
   "cell_type": "code",
   "execution_count": 47,
   "metadata": {},
   "outputs": [
    {
     "name": "stdout",
     "output_type": "stream",
     "text": [
      "3.141592653589793\n",
      "2.718281828459045\n"
     ]
    }
   ],
   "source": [
    "# 파이 값\n",
    "a = np.pi\n",
    "print(a)\n",
    "\n",
    "# 오일러 상수\n",
    "b = np.e\n",
    "print(b)"
   ]
  },
  {
   "cell_type": "code",
   "execution_count": 50,
   "metadata": {},
   "outputs": [
    {
     "name": "stdout",
     "output_type": "stream",
     "text": [
      "<class 'numpy.ndarray'>\n",
      "[1.2 5.  6.  8. ]\n",
      "float64\n"
     ]
    }
   ],
   "source": [
    "# 넘파이 어레이 만들기\n",
    "a = np.array([1.2,5,6,8])\n",
    "print(type(a))\n",
    "print(a)\n",
    "# 어레이 요소의 자료형을 알고싶을때\n",
    "print(a.dtype)"
   ]
  },
  {
   "cell_type": "code",
   "execution_count": 57,
   "metadata": {},
   "outputs": [
    {
     "name": "stdout",
     "output_type": "stream",
     "text": [
      "[[1 2 3 4]\n",
      " [1 2 3 4]]\n"
     ]
    }
   ],
   "source": [
    "# 여러 개의 어레이 만들기\n",
    "a = np.array([(1,2,3,4), (1,2,3,4)])\n",
    "print(a)\n"
   ]
  },
  {
   "cell_type": "code",
   "execution_count": 60,
   "metadata": {},
   "outputs": [
    {
     "name": "stdout",
     "output_type": "stream",
     "text": [
      "[[1.+0.j 2.+0.j 3.+0.j]\n",
      " [4.+0.j 5.+0.j 6.+0.j]]\n"
     ]
    }
   ],
   "source": [
    "# 타입 지정\n",
    "a = np.array([[1,2,3], [4,5,6]], dtype=complex)\n",
    "print(a)"
   ]
  },
  {
   "cell_type": "code",
   "execution_count": 67,
   "metadata": {},
   "outputs": [
    {
     "name": "stdout",
     "output_type": "stream",
     "text": [
      "   과목번호  과목명\n",
      "0     1   수학\n",
      "1     2   과학\n",
      "2     3  파이썬\n"
     ]
    }
   ],
   "source": [
    "no = [1,2,3]\n",
    "subj = [\"수학\", \"과학\", \"파이썬\"]\n",
    "subject = pd.DataFrame()\n",
    "subject['과목번호']= no\n",
    "subject['과목명'] = subj\n",
    "print(subject)\n",
    "subject.to_excel('C:\\Wujin_py\\subject.xlsx', index=False)"
   ]
  },
  {
   "cell_type": "code",
   "execution_count": 68,
   "metadata": {},
   "outputs": [],
   "source": [
    "# xlsx 엑셀\n",
    "# csv 엑셀이랑 똑같은데  , 기준으로 갈라짐\n",
    "subject.to_csv('C:\\Wujin_py\\subject.csv', encoding='utf-8-sig', index = True)"
   ]
  },
  {
   "cell_type": "code",
   "execution_count": 86,
   "metadata": {},
   "outputs": [
    {
     "name": "stdout",
     "output_type": "stream",
     "text": [
      "    이름  나이  성별\n",
      "0  홍길동  20  남자\n",
      "1  홍길순  50  여자\n",
      "2  임꺽정  32  남자\n",
      "========# // 데이터 프레임에서 성별컬럼만 출력==========\n",
      "0    홍길동\n",
      "1    홍길순\n",
      "2    임꺽정\n",
      "Name: 이름, dtype: object\n",
      "==================\n",
      "0    남자\n",
      "1    여자\n",
      "2    남자\n",
      "Name: 성별, dtype: object\n",
      "    이름  나이  성별  고향\n",
      "0  홍길동  20  남자  서울\n",
      "1  홍길순  50  여자  부산\n",
      "2  임꺽정  32  남자  대전\n",
      "===나이 평균값===\n",
      "34.0\n",
      "===나이 최댓값===\n",
      "50\n",
      "===나이 최솟값===\n",
      "20\n"
     ]
    }
   ],
   "source": [
    "# 데이터 프레임은 파이썬의 리스트와 딕셔너리의 조합이다. \n",
    "df = pd.DataFrame({\"이름\" : [\"홍길동\", \"홍길순\", \"임꺽정\"], \"나이\" : [20, 50, 32], \"성별\" : [\"남자\", \"여자\", \"남자\" ]})\n",
    "print(df)\n",
    "print(\"========# // 데이터 프레임에서 성별컬럼만 출력==========\")\n",
    "print(df[\"이름\"])\n",
    "print(\"==================\")\n",
    "print(df[\"성별\"])\n",
    "# 데이터 프레임에 고향컬럼 추가\n",
    "home = pd.Series([\"서울\", \"부산\", \"대전\"], name = \"고향\")\n",
    "df[\"고향\"] = home\n",
    "print(df)\n",
    "# 집계함수\n",
    "# 평균, 최댓값, 최솟값\n",
    "print(\"===나이 평균값===\")\n",
    "print(df[\"나이\"].mean())\n",
    "print(\"===나이 최댓값===\")\n",
    "print(df[\"나이\"].max())\n",
    "print(\"===나이 최솟값===\")\n",
    "print(df[\"나이\"].min())"
   ]
  },
  {
   "cell_type": "code",
   "execution_count": 90,
   "metadata": {},
   "outputs": [
    {
     "name": "stdout",
     "output_type": "stream",
     "text": [
      "              나이\n",
      "count   3.000000\n",
      "mean   34.000000\n",
      "std    15.099669\n",
      "min    20.000000\n",
      "25%    26.000000\n",
      "50%    32.000000\n",
      "75%    41.000000\n",
      "max    50.000000\n",
      "    이름  나이  성별\n",
      "0  홍길동  20  남자\n",
      "1  홍길순  50  여자\n",
      "    이름  나이  성별\n",
      "1  홍길순  50  여자\n",
      "2  임꺽정  32  남자\n"
     ]
    }
   ],
   "source": [
    "df = pd.DataFrame({\"이름\" : [\"홍길동\", \"홍길순\", \"임꺽정\"], \"나이\" : [20, 50, 32], \"성별\" : [\"남자\", \"여자\", \"남자\" ]})\n",
    "# 통계 (전체적인 기본 통계 출력)\n",
    "print(df.describe())\n",
    "# head는 위에서부터 원하는 것 까지 잘라서 가져오기\n",
    "print(df.head(2))\n",
    "# tail은 밑에서부터 원하는 것 까지 잘라서 가져오기\n",
    "print(df.tail(2))\n"
   ]
  },
  {
   "cell_type": "code",
   "execution_count": 116,
   "metadata": {},
   "outputs": [
    {
     "name": "stdout",
     "output_type": "stream",
     "text": [
      "   Unnamed: 0  order_no user_id user_pass name address product    price  brand\n",
      "0           0         1   user1     pass1  손흥민      런던     운동화   100000    나이키\n",
      "1           1         2   user2     pass2   설현      서울      코트   150000    버버리\n",
      "2           2         3   user3     pass3   원빈      대전     반바지    30000   유니클로\n",
      "3           3         4   user4     pass4  송혜교      대구     스커트    55000     자라\n",
      "4           4         5   user5     pass5  소지섭      부산      코트  1100000   알레그리\n",
      "5           5         6   user6     pass6  김지원      울산     티셔츠     9900   지오다노\n",
      "6           6         7   user6     pass6  김지원      울산     운동화   220000     텐디\n",
      "7           7         8   user1     pass1  손흥민      런던     스커트    30000  크로커다일\n",
      "8           8         9   user1     pass1  손흥민      런던      코트   580000    띠어리\n",
      "========================\n",
      "1. 손흥민이 몇 번 주문했나?\n",
      "3\n",
      "========================\n",
      "2. 손흥민이 산 상품은?\n",
      "0    운동화\n",
      "7    스커트\n",
      "8     코트\n",
      "Name: product, dtype: object\n",
      "========================\n",
      "3. 스커트를 산 사람은?\n",
      "3    송혜교\n",
      "7    손흥민\n",
      "Name: name, dtype: object\n",
      "========================\n",
      "4. 가장 많이 주문한 사람의 아이디와 이름, 주문 횟수는?\n",
      "  user_id name  count\n",
      "0   user1  손흥민      3\n",
      "5   user6  김지원      2\n",
      "1   user2   설현      1\n",
      "2   user3   원빈      1\n",
      "3   user4  송혜교      1\n",
      "4   user5  소지섭      1\n",
      "========================\n",
      "5. 김지원이 사용한 총 금액은?\n",
      "229900\n"
     ]
    }
   ],
   "source": [
    "# 엑셀 불러오기\n",
    "df = pd.read_excel('order.xlsx')\n",
    "print(df)\n",
    "print(\"========================\")\n",
    "print(\"1. 손흥민이 몇 번 주문했나?\")\n",
    "# => count()\n",
    "is_son = df[\"name\"] == \"손흥민\"\n",
    "print(df[is_son][\"order_no\"].count())\n",
    "print(\"========================\")\n",
    "\n",
    "print(\"2. 손흥민이 산 상품은?\")\n",
    "is_son = df[\"name\"] == \"손흥민\"\n",
    "print(df[is_son][\"product\"])\n",
    "\n",
    "print(\"========================\")\n",
    "print(\"3. 스커트를 산 사람은?\")\n",
    "buy = df[\"product\"] ==\"스커트\"\n",
    "print(df[buy][\"name\"])\n",
    "\n",
    "print(\"========================\")\n",
    "print(\"4. 가장 많이 주문한 사람의 아이디와 이름, 주문 횟수는?\")\n",
    "newdf = df.groupby([\"user_id\", \"name\"])[\"order_no\"].count().reset_index(name = \"count\")\n",
    "# 기본 정렬 방식은 오름차순, 내림차순으로 정렬하고 싶을 경우 ascending = False\n",
    "newdf = newdf.sort_values(\"count\", ascending=False)\n",
    "print(newdf)\n",
    "# => count(), groupby(), sort_values()\n",
    "\n",
    "print(\"========================\")\n",
    "print(\"5. 김지원이 사용한 총 금액은?\")\n",
    "jw = df[\"name\"] ==\"김지원\"\n",
    "print(df[jw][\"price\"].sum())\n",
    "\n",
    "\n",
    "# sum()"
   ]
  },
  {
   "cell_type": "code",
   "execution_count": 121,
   "metadata": {},
   "outputs": [
    {
     "data": {
      "image/png": "[encoded data removed]",
      "text/plain": [
       "<Figure size 432x288 with 1 Axes>"
      ]
     },
     "metadata": {
      "needs_background": "light"
     },
     "output_type": "display_data"
    }
   ],
   "source": [
    "# 시각화하기\n",
    "import matplotlib.pyplot as plt\n",
    "plt.plot([3,4,5,8])\n",
    "plt.show()\n"
   ]
  },
  {
   "cell_type": "code",
   "execution_count": 122,
   "metadata": {},
   "outputs": [
    {
     "data": {
      "image/png": "[encoded data removed]",
      "text/plain": [
       "<Figure size 432x288 with 1 Axes>"
      ]
     },
     "metadata": {
      "needs_background": "light"
     },
     "output_type": "display_data"
    }
   ],
   "source": [
    "x = [2,4,6,8]\n",
    "y = [1,3,5,7]\n",
    "plt.plot(x,y)\n",
    "plt.show()"
   ]
  },
  {
   "cell_type": "code",
   "execution_count": null,
   "metadata": {},
   "outputs": [],
   "source": [
    "'''\n",
    "색상표\n",
    "b = 파란색\n",
    "g = 녹색\n",
    "r = 빨간색\n",
    "c = 청록색\n",
    "m = 보라색\n",
    "y = 노란색\n",
    "k = 검은색\n",
    "w = 흰색\n",
    "'''"
   ]
  },
  {
   "cell_type": "code",
   "execution_count": 131,
   "metadata": {},
   "outputs": [
    {
     "data": {
      "image/png": "[encoded data removed]",
      "text/plain": [
       "<Figure size 432x288 with 1 Axes>"
      ]
     },
     "metadata": {
      "needs_background": "light"
     },
     "output_type": "display_data"
    }
   ],
   "source": [
    "# 색 정하기\n",
    "x = range(0,10)\n",
    "y = range(5,15)\n",
    "plt.plot(x,y,'y')\n",
    "plt.show()"
   ]
  },
  {
   "cell_type": "code",
   "execution_count": 139,
   "metadata": {},
   "outputs": [
    {
     "data": {
      "image/png": "[encoded data removed]",
      "text/plain": [
       "<Figure size 432x288 with 1 Axes>"
      ]
     },
     "metadata": {
      "needs_background": "light"
     },
     "output_type": "display_data"
    },
    {
     "data": {
      "text/plain": [
       "'\\n마커 \\no = 원\\nv = 역삼각형\\n^ = 삼각형\\n. = 점\\ns = 사각형\\n+ = +\\n\\n'"
      ]
     },
     "execution_count": 139,
     "metadata": {},
     "output_type": "execute_result"
    }
   ],
   "source": [
    "# 마커표시 \n",
    "x = range(0,10)\n",
    "y = range(5,15)\n",
    "plt.plot(x,y,'y+') # 색 뒤에 . 이나 o \n",
    "plt.show()\n",
    "\n",
    "'''\n",
    "마커 \n",
    "o = 원\n",
    "v = 역삼각형\n",
    "^ = 삼각형\n",
    ". = 점\n",
    "s = 사각형\n",
    "+ = +\n",
    "\n",
    "'''"
   ]
  },
  {
   "cell_type": "code",
   "execution_count": null,
   "metadata": {},
   "outputs": [],
   "source": []
  }
 ],
 "metadata": {
  "interpreter": {
   "hash": "4e0b39fdc4f2df2992ef135d097972ec225e019845a073717c5b1bc8df292c8a"
  },
  "kernelspec": {
   "display_name": "Python 3.10.3 64-bit",
   "language": "python",
   "name": "python3"
  },
  "language_info": {
   "codemirror_mode": {
    "name": "ipython",
    "version": 3
   },
   "file_extension": ".py",
   "mimetype": "text/x-python",
   "name": "python",
   "nbconvert_exporter": "python",
   "pygments_lexer": "ipython3",
   "version": "3.10.3"
  },
  "orig_nbformat": 4
 },
 "nbformat": 4,
 "nbformat_minor": 2
}
