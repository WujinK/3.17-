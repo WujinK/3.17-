{
 "cells": [
  {
   "cell_type": "code",
   "execution_count": 9,
   "metadata": {},
   "outputs": [],
   "source": [
    "# pandas => 데이터를 조작하고 분석하기 위한 파이썬 라이브러리, 대규모의 데이터를 처리할 때 편리하게 사용할 수 있다. \n",
    "\n",
    "# pandas의 기본 객체(정수 인덱스 자동으로 만들어줌)\n",
    "# series(열/=> 1차원 어레이//인덱스라는 레이블 가짐), DataFrame(시리즈가 합쳐진 것/=>2차원 어레이 )\n",
    "\n",
    "# numpy => 수학, 과학 연산을 위한 패키지\n",
    "# 숫자 그대로 입력은 불가함 ex) np.array(1,2,3,4)\n",
    "# np. array([1,2,3,4]) 가능\n",
    "# np. array((1,2,3,4)) 가능 \n",
    "# // 직접 입력만 하는 건 불가능"
   ]
  },
  {
   "cell_type": "code",
   "execution_count": 31,
   "metadata": {},
   "outputs": [
    {
     "name": "stdout",
     "output_type": "stream",
     "text": [
      "0    1\n",
      "1    2\n",
      "2    3\n",
      "3    4\n",
      "4    8\n",
      "dtype: int64\n"
     ]
    }
   ],
   "source": [
    "# 정수형 series 만들기\n",
    "import pandas as pd #as 뒤에는 별칭\n",
    "s=pd.Series([1,2,3,4,8])\n",
    "print(s)\n",
    "# dtype = 들어있는 자료형 알려줌\n"
   ]
  },
  {
   "cell_type": "code",
   "execution_count": 32,
   "metadata": {},
   "outputs": [
    {
     "name": "stdout",
     "output_type": "stream",
     "text": [
      "0    1.3\n",
      "1    2.5\n",
      "2    3.6\n",
      "3    2.3\n",
      "4    1.2\n",
      "dtype: float64\n"
     ]
    }
   ],
   "source": [
    "# 실수형 series(float는 실수)\n",
    "s = pd.Series([1.3,2.5,3.6,2.3,1.2])\n",
    "print(s)"
   ]
  },
  {
   "cell_type": "code",
   "execution_count": 33,
   "metadata": {},
   "outputs": [
    {
     "name": "stdout",
     "output_type": "stream",
     "text": [
      "0    1.0\n",
      "1    2.3\n",
      "2    5.0\n",
      "3    6.0\n",
      "dtype: float64\n"
     ]
    }
   ],
   "source": [
    "# 실수형, 정수형 series (섞임)\n",
    "s = pd.Series([1,2.3,5,6])\n",
    "print(s)"
   ]
  },
  {
   "cell_type": "code",
   "execution_count": 13,
   "metadata": {},
   "outputs": [
    {
     "name": "stdout",
     "output_type": "stream",
     "text": [
      "a    1.0\n",
      "b    2.3\n",
      "c    5.0\n",
      "d    6.0\n",
      "dtype: float64\n"
     ]
    }
   ],
   "source": [
    "# 인덱스 지정하기\n",
    "s = pd.Series([1,2.3,5,6], index =['a', 'b', 'c', 'd'])\n",
    "print(s)"
   ]
  },
  {
   "cell_type": "code",
   "execution_count": 21,
   "metadata": {},
   "outputs": [
    {
     "name": "stdout",
     "output_type": "stream",
     "text": [
      "[1 2 3]\n",
      "[0. 0. 0. 0. 0.]\n",
      "[[1. 1. 1.]\n",
      " [1. 1. 1.]]\n"
     ]
    }
   ],
   "source": [
    "# 넘파이로 어레이 만들기\n",
    "import numpy as np\n",
    "a= np.array([1,2,3])\n",
    "print(a)\n",
    "b = np.zeros(5)\n",
    "print(b)\n",
    "c = np.ones((2,3))\n",
    "print(c)"
   ]
  },
  {
   "cell_type": "code",
   "execution_count": 30,
   "metadata": {},
   "outputs": [
    {
     "name": "stdout",
     "output_type": "stream",
     "text": [
      "[5 5 5 5]\n",
      "[4 6 6 4]\n",
      "2.5\n",
      "2.5\n"
     ]
    }
   ],
   "source": [
    "# array 끼리 더하기 (요소끼리 더하기)\n",
    "a = np.array([1,2,3,4])\n",
    "b = np.array([4,3,2,1])\n",
    "print(np.add(a,b))\n",
    "\n",
    "# 요소별 곱하기\n",
    "print(np.multiply(a,b))\n",
    "\n",
    "# 요소별 평균 구하기 np.mean((어레이집어넣기))\n",
    "print(np.mean(a))\n",
    "print(np.mean(b))"
   ]
  },
  {
   "cell_type": "code",
   "execution_count": 43,
   "metadata": {},
   "outputs": [
    {
     "name": "stdout",
     "output_type": "stream",
     "text": [
      "[[0.72032905 0.7693116  0.10070278 0.20713535 0.38653764]\n",
      " [0.00715344 0.87065797 0.04759461 0.73585183 0.10090741]]\n",
      "[[ 0.26669838  1.9491668   0.20310489 -0.36035879]\n",
      " [ 0.89067186 -0.08696761  1.35302785 -0.1314746 ]]\n"
     ]
    }
   ],
   "source": [
    "# 0과 1 사이에서 균일한 분포를 갖는 숫자 샘플링\n",
    "a = np.random.rand(2,5)\n",
    "print(a)\n",
    "\n",
    "# 표준 정규 분포를 갖는 숫자들 샘플링\n",
    "b = np.random.randn(2,4)\n",
    "print(b)"
   ]
  },
  {
   "cell_type": "code",
   "execution_count": 47,
   "metadata": {},
   "outputs": [
    {
     "name": "stdout",
     "output_type": "stream",
     "text": [
      "3.141592653589793\n",
      "2.718281828459045\n"
     ]
    }
   ],
   "source": [
    "# 파이 값\n",
    "a = np.pi\n",
    "print(a)\n",
    "\n",
    "# 오일러 상수\n",
    "b = np.e\n",
    "print(b)"
   ]
  },
  {
   "cell_type": "code",
   "execution_count": 50,
   "metadata": {},
   "outputs": [
    {
     "name": "stdout",
     "output_type": "stream",
     "text": [
      "<class 'numpy.ndarray'>\n",
      "[1.2 5.  6.  8. ]\n",
      "float64\n"
     ]
    }
   ],
   "source": [
    "# 넘파이 어레이 만들기\n",
    "a = np.array([1.2,5,6,8])\n",
    "print(type(a))\n",
    "print(a)\n",
    "# 어레이 요소의 자료형을 알고싶을때\n",
    "print(a.dtype)"
   ]
  },
  {
   "cell_type": "code",
   "execution_count": 57,
   "metadata": {},
   "outputs": [
    {
     "name": "stdout",
     "output_type": "stream",
     "text": [
      "[[1 2 3 4]\n",
      " [1 2 3 4]]\n"
     ]
    }
   ],
   "source": [
    "# 여러 개의 어레이 만들기\n",
    "a = np.array([(1,2,3,4), (1,2,3,4)])\n",
    "print(a)\n"
   ]
  },
  {
   "cell_type": "code",
   "execution_count": 60,
   "metadata": {},
   "outputs": [
    {
     "name": "stdout",
     "output_type": "stream",
     "text": [
      "[[1.+0.j 2.+0.j 3.+0.j]\n",
      " [4.+0.j 5.+0.j 6.+0.j]]\n"
     ]
    }
   ],
   "source": [
    "# 타입 지정\n",
    "a = np.array([[1,2,3], [4,5,6]], dtype=complex)\n",
    "print(a)"
   ]
  },
  {
   "cell_type": "code",
   "execution_count": null,
   "metadata": {},
   "outputs": [],
   "source": []
  }
 ],
 "metadata": {
  "interpreter": {
   "hash": "4e0b39fdc4f2df2992ef135d097972ec225e019845a073717c5b1bc8df292c8a"
  },
  "kernelspec": {
   "display_name": "Python 3.10.3 64-bit",
   "language": "python",
   "name": "python3"
  },
  "language_info": {
   "codemirror_mode": {
    "name": "ipython",
    "version": 3
   },
   "file_extension": ".py",
   "mimetype": "text/x-python",
   "name": "python",
   "nbconvert_exporter": "python",
   "pygments_lexer": "ipython3",
   "version": "3.10.3"
  },
  "orig_nbformat": 4
 },
 "nbformat": 4,
 "nbformat_minor": 2
}
