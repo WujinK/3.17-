{
 "cells": [
  {
   "cell_type": "code",
   "execution_count": null,
   "metadata": {},
   "outputs": [],
   "source": [
    "\n",
    "\n",
    "# 딕셔너리이름 = {키값 : 밸류값, \"이름\" : \"홍길동\"---}\n",
    "# 리스트이름 = [요소1, 요소2]\n",
    "\n",
    "# 튜플()\n",
    "\n",
    "# 딕셔너리이름[\"이름\"] = \"홍길동\" (추가하는 거)\n",
    "# 딕셔너리이름[\"이름\"] = \"홍길순\" (홍길동 이라는 이름에 덮어 씌워지는 것_ 수정임)\n",
    "\n",
    "# 딕셔너리이름.keys()\n",
    "\n",
    "# print(딕셔너리이름[\"키값\"])\n",
    "\n",
    "# 딕셔너리이름.values()"
   ]
  },
  {
   "cell_type": "code",
   "execution_count": 7,
   "metadata": {},
   "outputs": [
    {
     "name": "stdout",
     "output_type": "stream",
     "text": [
      "1월는 31까지 있습니다.\n",
      "2월는 28까지 있습니다.\n",
      "3월는 31까지 있습니다.\n",
      "4월는 30까지 있습니다.\n",
      "5월는 31까지 있습니다.\n",
      "6월는 30까지 있습니다.\n",
      "7월는 31까지 있습니다.\n",
      "8월는 31까지 있습니다.\n",
      "9월는 30까지 있습니다.\n",
      "10월는 31까지 있습니다.\n",
      "11월는 30까지 있습니다.\n",
      "12월는 31까지 있습니다.\n"
     ]
    }
   ],
   "source": [
    "# 문제 : 딕셔너리에 각 달의 마지막 날들을 한번에 담고, keys()로 key, value 순회출력\n",
    "\n",
    "m = {\"1월\" : 31, \"2월\" : 28, \"3월\" : 31, \"4월\" : 30, \"5월\" : 31, \"6월\" : 30, \"7월\" : 31, \"8월\" : 31, \"9월\" : 30, \"10월\" : 31, \"11월\" : 30, \"12월\" : 31}\n",
    "\n",
    "for month in m.keys() :\n",
    "    end = m[month]\n",
    "    print(month+\"는 \"+str(end)+\"까지 있습니다.\")\n",
    "\n"
   ]
  },
  {
   "cell_type": "code",
   "execution_count": 20,
   "metadata": {},
   "outputs": [
    {
     "name": "stdout",
     "output_type": "stream",
     "text": [
      "31\n",
      "28\n",
      "31\n"
     ]
    }
   ],
   "source": [
    "# 문제 : 딕셔너리에 각 달의 마지막 날들을 한번에 담고, values()로 value 순회출력\n",
    "m = {\"1월\":31, \"2월\":28, \"3월\" : 31}\n",
    "for end in m.values() :\n",
    "    print(end)\n"
   ]
  },
  {
   "cell_type": "code",
   "execution_count": 21,
   "metadata": {},
   "outputs": [],
   "source": [
    "# 딕셔너리이름.itmes() // key값하고 value값 다 뽑아옴\n",
    "# 변수1, 변수2 딕셔너리이름.itmes() // key값하고 value값 다 뽑아옴"
   ]
  },
  {
   "cell_type": "code",
   "execution_count": 26,
   "metadata": {},
   "outputs": [
    {
     "ename": "AttributeError",
     "evalue": "'dict' object has no attribute 'itmes'",
     "output_type": "error",
     "traceback": [
      "\u001b[1;31m---------------------------------------------------------------------------\u001b[0m",
      "\u001b[1;31mAttributeError\u001b[0m                            Traceback (most recent call last)",
      "\u001b[1;32mc:\\Wujin_py\\3_17.ipynb Cell 5'\u001b[0m in \u001b[0;36m<cell line: 4>\u001b[1;34m()\u001b[0m\n\u001b[0;32m      <a href='vscode-notebook-cell:/c%3A/Wujin_py/3_17.ipynb#ch0000004?line=0'>1</a>\u001b[0m \u001b[39m# 문제 : 딕셔너리에 각 달의 마지막 날들을 한번에 담고, items()로 key, value 순회출력\u001b[39;00m\n\u001b[0;32m      <a href='vscode-notebook-cell:/c%3A/Wujin_py/3_17.ipynb#ch0000004?line=1'>2</a>\u001b[0m m \u001b[39m=\u001b[39m {\u001b[39m\"\u001b[39m\u001b[39m1월\u001b[39m\u001b[39m\"\u001b[39m:\u001b[39m31\u001b[39m, \u001b[39m\"\u001b[39m\u001b[39m2월\u001b[39m\u001b[39m\"\u001b[39m:\u001b[39m28\u001b[39m, \u001b[39m\"\u001b[39m\u001b[39m3월\u001b[39m\u001b[39m\"\u001b[39m : \u001b[39m31\u001b[39m}\n\u001b[1;32m----> <a href='vscode-notebook-cell:/c%3A/Wujin_py/3_17.ipynb#ch0000004?line=3'>4</a>\u001b[0m \u001b[39mfor\u001b[39;00m month, end \u001b[39min\u001b[39;00m m\u001b[39m.\u001b[39;49mitmes() :\n\u001b[0;32m      <a href='vscode-notebook-cell:/c%3A/Wujin_py/3_17.ipynb#ch0000004?line=4'>5</a>\u001b[0m     \u001b[39mprint\u001b[39m(month, end)\n",
      "\u001b[1;31mAttributeError\u001b[0m: 'dict' object has no attribute 'itmes'"
     ]
    }
   ],
   "source": [
    "# 문제 : 딕셔너리에 각 달의 마지막 날들을 한번에 담고, items()로 key, value 순회출력\n",
    "m = {\"1월\":31, \"2월\":28, \"3월\" : 31}\n",
    "\n",
    "for month, end in m.itmes() :\n",
    "    print(month, end)"
   ]
  },
  {
   "cell_type": "code",
   "execution_count": null,
   "metadata": {},
   "outputs": [],
   "source": []
  }
 ],
 "metadata": {
  "interpreter": {
   "hash": "4e0b39fdc4f2df2992ef135d097972ec225e019845a073717c5b1bc8df292c8a"
  },
  "kernelspec": {
   "display_name": "Python 3.10.3 64-bit",
   "language": "python",
   "name": "python3"
  },
  "language_info": {
   "codemirror_mode": {
    "name": "ipython",
    "version": 3
   },
   "file_extension": ".py",
   "mimetype": "text/x-python",
   "name": "python",
   "nbconvert_exporter": "python",
   "pygments_lexer": "ipython3",
   "version": "3.10.3"
  },
  "orig_nbformat": 4
 },
 "nbformat": 4,
 "nbformat_minor": 2
}
