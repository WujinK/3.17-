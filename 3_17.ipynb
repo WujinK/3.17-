{
 "cells": [
  {
   "cell_type": "code",
   "execution_count": null,
   "metadata": {},
   "outputs": [],
   "source": [
    "\n",
    "\n",
    "# 딕셔너리이름 = {키값 : 밸류값, \"이름\" : \"홍길동\"---}\n",
    "# 리스트이름 = [요소1, 요소2]\n",
    "\n",
    "# 튜플()\n",
    "\n",
    "# 딕셔너리이름[\"이름\"] = \"홍길동\" (추가하는 거)\n",
    "# 딕셔너리이름[\"이름\"] = \"홍길순\" (홍길동 이라는 이름에 덮어 씌워지는 것_ 수정임)\n",
    "\n",
    "# 딕셔너리이름.keys()\n",
    "\n",
    "# print(딕셔너리이름[\"키값\"])\n",
    "\n",
    "# 딕셔너리이름.values()"
   ]
  },
  {
   "cell_type": "code",
   "execution_count": 7,
   "metadata": {},
   "outputs": [
    {
     "name": "stdout",
     "output_type": "stream",
     "text": [
      "1월는 31까지 있습니다.\n",
      "2월는 28까지 있습니다.\n",
      "3월는 31까지 있습니다.\n",
      "4월는 30까지 있습니다.\n",
      "5월는 31까지 있습니다.\n",
      "6월는 30까지 있습니다.\n",
      "7월는 31까지 있습니다.\n",
      "8월는 31까지 있습니다.\n",
      "9월는 30까지 있습니다.\n",
      "10월는 31까지 있습니다.\n",
      "11월는 30까지 있습니다.\n",
      "12월는 31까지 있습니다.\n"
     ]
    }
   ],
   "source": [
    "# 문제 : 딕셔너리에 각 달의 마지막 날들을 한번에 담고, keys()로 key, value 순회출력\n",
    "\n",
    "m = {\"1월\" : 31, \"2월\" : 28, \"3월\" : 31, \"4월\" : 30, \"5월\" : 31, \"6월\" : 30, \"7월\" : 31, \"8월\" : 31, \"9월\" : 30, \"10월\" : 31, \"11월\" : 30, \"12월\" : 31}\n",
    "\n",
    "for month in m.keys() :\n",
    "    end = m[month]\n",
    "    print(month+\"는 \"+str(end)+\"까지 있습니다.\")\n",
    "\n"
   ]
  },
  {
   "cell_type": "code",
   "execution_count": 20,
   "metadata": {},
   "outputs": [
    {
     "name": "stdout",
     "output_type": "stream",
     "text": [
      "31\n",
      "28\n",
      "31\n"
     ]
    }
   ],
   "source": [
    "# 문제 : 딕셔너리에 각 달의 마지막 날들을 한번에 담고, values()로 value 순회출력\n",
    "m = {\"1월\":31, \"2월\":28, \"3월\" : 31}\n",
    "for end in m.values() :\n",
    "    print(end)\n"
   ]
  },
  {
   "cell_type": "code",
   "execution_count": 27,
   "metadata": {},
   "outputs": [],
   "source": [
    "# 딕셔너리이름.itmes() // key값하고 value값 다 뽑아옴\n",
    "# 변수1, 변수2 딕셔너리이름.itmes() // key값하고 value값 다 뽑아옴 // enumerate랑 비슷한 게 items임"
   ]
  },
  {
   "cell_type": "code",
   "execution_count": 34,
   "metadata": {},
   "outputs": [],
   "source": [
    "# ㄹㅣ스트이름 = [2,4,5,6,7,8,9]\n",
    "# del(딕셔너리이름[\"키값\"])"
   ]
  },
  {
   "cell_type": "code",
   "execution_count": 35,
   "metadata": {},
   "outputs": [
    {
     "name": "stdout",
     "output_type": "stream",
     "text": [
      "{'1월': 31, '2월': 28}\n"
     ]
    }
   ],
   "source": [
    "# (문제) 딕셔너리에 각 달의 마지막 날들을 한번에 담고, 3월 정보를 제거\n",
    "\n",
    "m = {\"1월\":31, \"2월\":28, \"3월\" : 31}\n",
    "del(m[\"3월\"])\n",
    "print(m)"
   ]
  },
  {
   "cell_type": "code",
   "execution_count": 36,
   "metadata": {},
   "outputs": [
    {
     "name": "stdout",
     "output_type": "stream",
     "text": [
      "{'1월': 31, '2월': 29, '3월': 31}\n"
     ]
    }
   ],
   "source": [
    "# 문제 : 딕셔너리에 각 달의 마지막 날들을 한번에 담고, 2월을 29일로 수정\n",
    "\n",
    "m = {\"1월\":31, \"2월\":28, \"3월\" : 31}\n",
    "m[\"2월\"] = 29\n",
    "print(m)"
   ]
  },
  {
   "cell_type": "code",
   "execution_count": 43,
   "metadata": {},
   "outputs": [
    {
     "name": "stdout",
     "output_type": "stream",
     "text": [
      "{'a': 1, 'b': 3, 'c': 4}\n"
     ]
    }
   ],
   "source": [
    "# 딕셔너리이름1 = {----}\n",
    "# 딕셔너리이름2 = {----}\n",
    "# 딕셔너리이름1.update(딕셔너리이름2) // 딕셔너리 1번에 2번으로 업데이트 해주는 것 // 추가임\n",
    "\n",
    "m1 = {\"a\" : 1, \"b\" : 2}\n",
    "m2 = {\"b\" : 3, \"c\" : 4}\n",
    "\n",
    "m1.update(m2)\n",
    "print(m1)"
   ]
  },
  {
   "cell_type": "code",
   "execution_count": 45,
   "metadata": {},
   "outputs": [
    {
     "name": "stdout",
     "output_type": "stream",
     "text": [
      "{'1월': 31, '2월': 29, '3월': 31, '4월': 30, '5월': 31}\n"
     ]
    }
   ],
   "source": [
    "# 문제 : 딕셔너리에 각 달의 마지막 날들을 한번에 담고, update를 이용하여, 2월을 29일로 수정하고 4월, 5월의 정보도 추가\n",
    "\n",
    "m1={\"1월\" : 31, \"2월\" : 28, \"3월\" : 31}\n",
    "m2={\"2월\" : 29, \"4월\" : 30, \"5월\" : 31}\n",
    "m1.update(m2)\n",
    "print(m1)\n"
   ]
  },
  {
   "cell_type": "code",
   "execution_count": 46,
   "metadata": {},
   "outputs": [],
   "source": [
    "# git add * // git commit -m \"\" // git push origin master"
   ]
  },
  {
   "cell_type": "code",
   "execution_count": 49,
   "metadata": {},
   "outputs": [
    {
     "name": "stdout",
     "output_type": "stream",
     "text": [
      "{'영수': '11살', '영희': '12살', '철수': '13살', '민수': '14살'}\n"
     ]
    }
   ],
   "source": [
    "# 문제 : 영수, 영희, 철수, 민수의 나이를 딕셔너리에 담기\n",
    "# 조건 : 가장 효율적인 데이터구조를 유지해주시면 됩니다.\n",
    "# 변수명을 명확하고 간결하게 지어주시면 됩니다.\n",
    "# 영수 : 11살, 영희 : 12살, 철수 : 13살, \n",
    "# 민수 : 14살\n",
    "# 15살 희수가 있었으나 전학을 갔다. 기록을 삭제해야 한다. \n",
    "\n",
    "f = {\"영수\" : \"11살\", \"영희\" : \"12살\", \"철수\" : \"13살\", \"민수\" : \"14살\", \"희수\" : \"15살\"}\n",
    "del(f[\"희수\"])\n",
    "print(f)"
   ]
  },
  {
   "cell_type": "code",
   "execution_count": null,
   "metadata": {},
   "outputs": [],
   "source": []
  }
 ],
 "metadata": {
  "interpreter": {
   "hash": "4e0b39fdc4f2df2992ef135d097972ec225e019845a073717c5b1bc8df292c8a"
  },
  "kernelspec": {
   "display_name": "Python 3.10.3 64-bit",
   "language": "python",
   "name": "python3"
  },
  "language_info": {
   "codemirror_mode": {
    "name": "ipython",
    "version": 3
   },
   "file_extension": ".py",
   "mimetype": "text/x-python",
   "name": "python",
   "nbconvert_exporter": "python",
   "pygments_lexer": "ipython3",
   "version": "3.10.3"
  },
  "orig_nbformat": 4
 },
 "nbformat": 4,
 "nbformat_minor": 2
}
